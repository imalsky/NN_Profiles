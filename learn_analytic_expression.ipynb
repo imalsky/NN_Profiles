{
 "cells": [
  {
   "cell_type": "code",
   "metadata": {
    "ExecuteTime": {
     "end_time": "2024-12-10T00:16:29.407572Z",
     "start_time": "2024-12-10T00:16:29.404191Z"
    }
   },
   "source": [
    "import json\n",
    "import numpy as np\n",
    "from pysr import PySRRegressor\n",
    "import pickle as pkl\n",
    "\n",
    "from dataset import NormalizedProfilesDataset\n",
    "from utils import load_normalization_metadata\n",
    "from models import RNN_New, BasicRNN\n",
    "from torch.utils.data import DataLoader\n",
    "import torch"
   ],
   "outputs": [],
   "execution_count": 4
  },
  {
   "metadata": {
    "ExecuteTime": {
     "end_time": "2024-12-10T00:16:30.246254Z",
     "start_time": "2024-12-10T00:16:30.242901Z"
    }
   },
   "cell_type": "code",
   "source": "",
   "outputs": [],
   "execution_count": null
  },
  {
   "cell_type": "code",
   "metadata": {
    "ExecuteTime": {
     "end_time": "2024-12-10T00:16:30.638138Z",
     "start_time": "2024-12-10T00:16:30.635398Z"
    }
   },
   "source": [
    "# Paths\n",
    "model_params_path = \"Data/Model/model_parameters.json\"\n",
    "model_save_path = \"Data/Model/best_model.pth\"\n",
    "data_folder = \"Data/Normalized_Profiles\"\n",
    "save_path = \"Figures\"\n",
    "\n",
    "# Load the model parameters\n",
    "with open(model_params_path, 'r') as f:\n",
    "    model_params = json.load(f)\n",
    "\n",
    "# Display the model parameters\n",
    "print(\"Loaded model parameters:\")\n",
    "print(json.dumps(model_params, indent=4))"
   ],
   "outputs": [
    {
     "name": "stdout",
     "output_type": "stream",
     "text": [
      "Loaded model parameters:\n",
      "{\n",
      "    \"model_type\": \"BasicRNN\",\n",
      "    \"RNN_type\": \"LSTM\",\n",
      "    \"nx\": 4,\n",
      "    \"ny\": 1,\n",
      "    \"nx_sfc\": 0,\n",
      "    \"nneur\": [\n",
      "        32,\n",
      "        32\n",
      "    ],\n",
      "    \"outputs_one_longer\": false,\n",
      "    \"concat\": false,\n",
      "    \"batch_size\": 4,\n",
      "    \"learning_rate\": 0.0001,\n",
      "    \"epochs\": 500,\n",
      "    \"input_variables\": [\n",
      "        \"pressure\",\n",
      "        \"temperature\",\n",
      "        \"Tstar\",\n",
      "        \"flux_surface_down\"\n",
      "    ],\n",
      "    \"target_variables\": [\n",
      "        \"net_flux\"\n",
      "    ]\n",
      "}\n"
     ]
    }
   ],
   "execution_count": 5
  },
  {
   "cell_type": "code",
   "metadata": {
    "ExecuteTime": {
     "end_time": "2024-12-10T00:16:31.130904Z",
     "start_time": "2024-12-10T00:16:31.125437Z"
    }
   },
   "source": [
    "# Device configuration\n",
    "device = torch.device(\"cuda\" if torch.cuda.is_available() else \"cpu\")\n",
    "\n",
    "# Retrieve model_type\n",
    "model_type = model_params.get(\"model_type\", \"RNN_New\")\n",
    "\n",
    "# Initialize the model dynamically based on model_type\n",
    "if model_type == 'BasicRNN':\n",
    "    model = BasicRNN(\n",
    "        RNN_type=model_params['RNN_type'],\n",
    "        nx=model_params['nx'],\n",
    "        ny=model_params['ny'],\n",
    "        nneur=tuple(model_params['nneur']),\n",
    "        outputs_one_longer=model_params['outputs_one_longer'],\n",
    "        concat=model_params['concat']\n",
    "    )\n",
    "elif model_type == 'RNN_New':\n",
    "    model = RNN_New(\n",
    "        RNN_type=model_params['RNN_type'],\n",
    "        nx=model_params['nx'],\n",
    "        ny=model_params['ny'],\n",
    "        nneur=tuple(model_params['nneur']),\n",
    "        outputs_one_longer=model_params['outputs_one_longer'],\n",
    "        concat=model_params['concat']\n",
    "    )\n",
    "else:\n",
    "    raise ValueError(f\"Unknown model type: {model_type}\")\n",
    "\n",
    "# Load the trained model weights\n",
    "model.load_state_dict(torch.load(model_save_path, map_location=device))\n",
    "model.to(device)\n",
    "model.eval()\n",
    "\n",
    "print(f\"Model '{model_type}' loaded and ready for evaluation.\")\n"
   ],
   "outputs": [
    {
     "name": "stderr",
     "output_type": "stream",
     "text": [
      "/var/folders/8_/lltwgz4x48ncx3q3k86fr_tm0000gq/T/ipykernel_80070/1995295661.py:30: FutureWarning: You are using `torch.load` with `weights_only=False` (the current default value), which uses the default pickle module implicitly. It is possible to construct malicious pickle data which will execute arbitrary code during unpickling (See https://github.com/pytorch/pytorch/blob/main/SECURITY.md#untrusted-models for more details). In a future release, the default value for `weights_only` will be flipped to `True`. This limits the functions that could be executed during unpickling. Arbitrary objects will no longer be allowed to be loaded via this mode unless they are explicitly allowlisted by the user via `torch.serialization.add_safe_globals`. We recommend you start setting `weights_only=True` for any use case where you don't have full control of the loaded file. Please open an issue on GitHub for any issues related to this experimental feature.\n",
      "  model.load_state_dict(torch.load(model_save_path, map_location=device))\n"
     ]
    },
    {
     "name": "stdout",
     "output_type": "stream",
     "text": [
      "Model 'BasicRNN' loaded and ready for evaluation.\n"
     ]
    }
   ],
   "execution_count": 6
  },
  {
   "metadata": {
    "ExecuteTime": {
     "end_time": "2024-12-10T00:16:42.051883Z",
     "start_time": "2024-12-10T00:16:41.942443Z"
    }
   },
   "cell_type": "code",
   "source": [
    "# Load normalization metadata\n",
    "normalization_metadata = load_normalization_metadata()\n",
    "\n",
    "# Expected length of profiles\n",
    "expected_length = 50\n",
    "\n",
    "# Initialize the test dataset\n",
    "test_dataset = NormalizedProfilesDataset(\n",
    "    data_folder,\n",
    "    expected_length=50,\n",
    "    input_variables=['pressure', 'temperature', 'Tstar', 'flux_surface_down'],\n",
    "    target_variables=['net_flux']\n",
    ")\n",
    "\n",
    "# Create DataLoader\n",
    "test_loader = DataLoader(test_dataset,batch_size=1,shuffle=False)\n",
    "\n",
    "print(\"Test dataset loaded.\")\n"
   ],
   "outputs": [
    {
     "name": "stdout",
     "output_type": "stream",
     "text": [
      "Test dataset loaded.\n"
     ]
    }
   ],
   "execution_count": 7
  },
  {
   "cell_type": "code",
   "metadata": {
    "ExecuteTime": {
     "end_time": "2024-12-10T00:29:06.530382Z",
     "start_time": "2024-12-10T00:28:40.996183Z"
    }
   },
   "source": [
    "import torch\n",
    "import numpy as np\n",
    "import pickle as pkl\n",
    "from torch.utils.data import DataLoader\n",
    "from pysr import PySRRegressor\n",
    "\n",
    "# Ensure model is in evaluation mode\n",
    "model.eval()\n",
    "\n",
    "# We'll gather inputs and outputs from the model\n",
    "X_all = []\n",
    "Y_all = []\n",
    "Preds_all = []\n",
    "\n",
    "# Iterate over a portion of the test data to build a dataset for symbolic regression\n",
    "# For symbolic regression, a few thousand samples might be enough.\n",
    "max_samples = 2000\n",
    "count = 0\n",
    "\n",
    "with torch.no_grad():\n",
    "    for X_batch, Y_batch in test_loader:\n",
    "        X_batch = X_batch.to(device)  # Move to GPU if available\n",
    "        Y_batch = Y_batch.to(device)\n",
    "\n",
    "        # Get model predictions\n",
    "        Y_pred = model(X_batch)\n",
    "\n",
    "        # Move data back to CPU and convert to numpy\n",
    "        X_np = X_batch.cpu().numpy()\n",
    "        Y_np = Y_batch.cpu().numpy()\n",
    "        Y_pred_np = Y_pred.cpu().numpy()\n",
    "\n",
    "        X_all.append(X_np)\n",
    "        Y_all.append(Y_np)\n",
    "        Preds_all.append(Y_pred_np)\n",
    "\n",
    "        count += X_np.shape[0]\n",
    "        if count >= max_samples:\n",
    "            break\n",
    "\n",
    "# Concatenate all arrays\n",
    "X_all = np.concatenate(X_all, axis=0)  # shape: (N, seq_len, nx)\n",
    "Y_all = np.concatenate(Y_all, axis=0)  # shape: (N, ny)\n",
    "Preds_all = np.concatenate(Preds_all, axis=0)  # shape: (N, ny)\n",
    "\n",
    "# If your model output is multi-dimensional (ny > 1), select one dimension for demonstration\n",
    "if Preds_all.ndim > 1 and Preds_all.shape[1] > 1:\n",
    "    Preds_all = Preds_all[:, 0]\n",
    "    Y_all = Y_all[:, 0]\n",
    "\n",
    "# Now we have:\n",
    "# X_all: shape (N, seq_len, nx)\n",
    "# Preds_all: shape (N,)\n",
    "# We need a suitable input representation for PySR.\n",
    "# PySR typically expects a 2D array of inputs (N, features).\n",
    "# One common approach:\n",
    "# Flatten sequence input or extract features from it.\n",
    "# For demonstration, let's just flatten the sequence dimension:\n",
    "N, seq_len, nx = X_all.shape\n",
    "X_for_pysr = X_all.reshape(N, seq_len * nx)\n",
    "\n",
    "Y_for_pysr = Preds_all  # We'll try to fit PySR to match model predictions.\n",
    "\n",
    "# Optionally, choose a random subset for PySR\n",
    "subset_size = 1000\n",
    "rstate = np.random.RandomState(0)\n",
    "idx = rstate.choice(N, size=subset_size, replace=False)\n",
    "X_for_pysr = X_for_pysr[idx]\n",
    "Y_for_pysr = Y_for_pysr[idx]\n",
    "\n",
    "# Save the recorded data if desired\n",
    "with open(\"rnn_recordings.pkl\", \"wb\") as f:\n",
    "    pkl.dump({\"X_for_pysr\": X_for_pysr, \"Y_for_pysr\": Y_for_pysr}, f)\n",
    "\n",
    "# Perform symbolic regression with PySR\n",
    "model_pysr = PySRRegressor(\n",
    "    niterations=50,\n",
    "    binary_operators=[\"+\", \"-\", \"*\", \"/\"],\n",
    "    unary_operators=[\"cos\", \"sin\", \"exp\", \"log\", \"square\"],\n",
    "    progress=True,\n",
    "    random_state=0,\n",
    "    deterministic=True,\n",
    "    parallelism='serial'\n",
    ")\n",
    "model_pysr.fit(X_for_pysr, Y_for_pysr)\n",
    "\n",
    "print(\"Discovered equations:\")\n",
    "print(model_pysr.equations_)\n",
    "\n",
    "best_equation = model_pysr.get_best()\n",
    "print(\"Best equation found by PySR:\")\n",
    "print(best_equation)\n"
   ],
   "outputs": [
    {
     "name": "stderr",
     "output_type": "stream",
     "text": [
      "/opt/anaconda3/lib/python3.12/site-packages/pysr/sr.py:2737: UserWarning: Note: it looks like you are running in Jupyter. The progress bar will be turned off.\n",
      "  warnings.warn(\n",
      "/opt/anaconda3/lib/python3.12/site-packages/pysr/sr.py:2222: UserWarning: Note: you are running with 10 features or more. Genetic algorithms like used in PySR scale poorly with large numbers of features. You should run PySR for more `niterations` to ensure it can find the correct variables, and consider using a larger `maxsize`.\n",
      "  warnings.warn(\n",
      "[ Info: Started!\n",
      "[ Info: Final population:\n",
      "[ Info: Results saved to:\n"
     ]
    },
    {
     "name": "stdout",
     "output_type": "stream",
     "text": [
      "Discovered equations:\n",
      "    complexity      loss                                           equation  \\\n",
      "0            1  0.995036                                       -0.002542921   \n",
      "1            2  0.980967                                           cos(x75)   \n",
      "2            3  0.000718                                  x87 * -0.99715626   \n",
      "3            5  0.000700                          (-1.1441721 * x31) / x189   \n",
      "4            6  0.000695                      (exp(x7) * 0.0014810576) - x7   \n",
      "5            7  0.000446          (exp(square(x163)) * 7.4602765e-5) - x143   \n",
      "6            8  0.000446       sin(exp(square(x107)) * 7.4602765e-5) - x163   \n",
      "7            9  0.000418  (exp(square(x115)) * 7.84769e-5) - (x7 + 0.005...   \n",
      "8           11  0.000397  (exp(square(x167)) * 8.751666e-5) - ((x195 + 0...   \n",
      "9           12  0.000396  (square(square(exp(x11) * 0.040987138)) + (-0....   \n",
      "10          14  0.000390  (8.751666e-5 * exp(square(x27))) - ((0.0056887...   \n",
      "11          16  0.000383  square((exp(x39) + (x17 - 0.92633206)) * -0.03...   \n",
      "12          18  0.000314  (square(sin(x13) + (exp(x3) - square(x195))) *...   \n",
      "13          20  0.000309  (square(square(x39) + (cos(exp(sin(x25))) - ex...   \n",
      "14          21  0.000299  (square(exp(x11) + ((exp(sin(x25)) - square(x1...   \n",
      "15          22  0.000298  square((square(x103) - (exp(x163) + sin(x21)))...   \n",
      "16          23  0.000296  square(((exp(x163) + sin(sin(x21))) - square(x...   \n",
      "17          24  0.000280  (square(exp(x3)) * 0.0011760808) - (x3 + ((((x...   \n",
      "18          26  0.000273  (square(exp(x3)) * 0.0011760808) - ((x3 + (((x...   \n",
      "19          27  0.000239  (square(exp(x3) + sin(x13)) * 0.0011760808) - ...   \n",
      "20          28  0.000237  (square(exp(x195) + (sin(x13) - square(x195)))...   \n",
      "21          30  0.000223  (square(exp(x195) + (sin(x13) - square(x195)))...   \n",
      "\n",
      "       score                                       sympy_format  \\\n",
      "0   0.000000                               -0.00254292100000000   \n",
      "1   0.014240                                           cos(x75)   \n",
      "2   7.220493                                  x87*(-0.99715626)   \n",
      "3   0.012053                                -1.1441721*x31/x189   \n",
      "4   0.007645                         -x7 + exp(x7)*0.0014810576   \n",
      "5   0.444027                  -x143 + exp(x163**2)*7.4602765e-5   \n",
      "6   0.000025             -x163 + sin(exp(x107**2)*7.4602765e-5)   \n",
      "7   0.065388     -(x7 + 0.0053841593) + exp(x115**2)*7.84769e-5   \n",
      "8   0.025469  -(x195 + 0.005688729)/0.99505454 + exp(x167**2...   \n",
      "9   0.001274  (-x11 + 2.82221682058058e-6*exp(4*x11) - 0.005...   \n",
      "10  0.007849  -(x167 + 0.005688729/(1.2444589 - sin(x95))) +...   \n",
      "11  0.009017  -(x163 + 0.01010551688644*x3**2) + 0.001122827...   \n",
      "12  0.099800  -(0.0141587129123521*x111**2 + x3) + (-x195**2...   \n",
      "13  0.007268  -(x163 + 0.0145004802738436*x63**2) + (x39**2 ...   \n",
      "14  0.032449  -(x163 + x63**2*0.014485955) + (1.882436959572...   \n",
      "15  0.004517  0.0042455115346081*(x103**2 - (exp(x163) + sin...   \n",
      "16  0.008201  -(x3 + (x3*(-0.1035257) + x93*0.035280835)**2)...   \n",
      "17  0.056069  -(0.0148113427274596*x3**2 + x3 + x5*(0.219779...   \n",
      "18  0.012216  -(0.0148113427274596*x3**2 + x3 + x5*(-x43 + x...   \n",
      "19  0.130575  (exp(x3) + sin(x13))**2*0.0011760808 - (0.0148...   \n",
      "20  0.009853  (-x195**2 + exp(x195) + sin(x13))**2*0.0044328...   \n",
      "21  0.029533  (-x195**2 + exp(x195) + sin(x13))**2*0.0045815...   \n",
      "\n",
      "                                        lambda_format  \n",
      "0               PySRFunction(X=>-0.00254292100000000)  \n",
      "1                           PySRFunction(X=>cos(x75))  \n",
      "2                  PySRFunction(X=>x87*(-0.99715626))  \n",
      "3                PySRFunction(X=>-1.1441721*x31/x189)  \n",
      "4         PySRFunction(X=>-x7 + exp(x7)*0.0014810576)  \n",
      "5   PySRFunction(X=>-x143 + exp(x163**2)*7.4602765...  \n",
      "6   PySRFunction(X=>-x163 + sin(exp(x107**2)*7.460...  \n",
      "7   PySRFunction(X=>-(x7 + 0.0053841593) + exp(x11...  \n",
      "8   PySRFunction(X=>-(x195 + 0.005688729)/0.995054...  \n",
      "9   PySRFunction(X=>(-x11 + 2.82221682058058e-6*ex...  \n",
      "10  PySRFunction(X=>-(x167 + 0.005688729/(1.244458...  \n",
      "11  PySRFunction(X=>-(x163 + 0.01010551688644*x3**...  \n",
      "12  PySRFunction(X=>-(0.0141587129123521*x111**2 +...  \n",
      "13  PySRFunction(X=>-(x163 + 0.0145004802738436*x6...  \n",
      "14  PySRFunction(X=>-(x163 + x63**2*0.014485955) +...  \n",
      "15  PySRFunction(X=>0.0042455115346081*(x103**2 - ...  \n",
      "16  PySRFunction(X=>-(x3 + (x3*(-0.1035257) + x93*...  \n",
      "17  PySRFunction(X=>-(0.0148113427274596*x3**2 + x...  \n",
      "18  PySRFunction(X=>-(0.0148113427274596*x3**2 + x...  \n",
      "19  PySRFunction(X=>(exp(x3) + sin(x13))**2*0.0011...  \n",
      "20  PySRFunction(X=>(-x195**2 + exp(x195) + sin(x1...  \n",
      "21  PySRFunction(X=>(-x195**2 + exp(x195) + sin(x1...  \n",
      "Best equation found by PySR:\n",
      "complexity                                                      27\n",
      "loss                                                      0.000239\n",
      "equation         (square(exp(x3) + sin(x13)) * 0.0011760808) - ...\n",
      "score                                                     0.130575\n",
      "sympy_format     (exp(x3) + sin(x13))**2*0.0011760808 - (0.0148...\n",
      "lambda_format    PySRFunction(X=>(exp(x3) + sin(x13))**2*0.0011...\n",
      "Name: 19, dtype: object\n",
      "Error in callback _flush_stdio (for post_execute):\n"
     ]
    },
    {
     "ename": "UnicodeDecodeError",
     "evalue": "'utf-8' codec can't decode bytes in position 4094-4095: unexpected end of data",
     "output_type": "error",
     "traceback": [
      "\u001B[0;31m---------------------------------------------------------------------------\u001B[0m",
      "\u001B[0;31mUnicodeDecodeError\u001B[0m                        Traceback (most recent call last)",
      "File \u001B[0;32m~/.julia/packages/PythonCall/Nr75f/src/JlWrap/any.jl:258\u001B[0m, in \u001B[0;36m__call__\u001B[0;34m(self, *args, **kwargs)\u001B[0m\n\u001B[1;32m    256\u001B[0m     return ValueBase.__dir__(self) + self._jl_callmethod($(pyjl_methodnum(pyjlany_dir)))\n\u001B[1;32m    257\u001B[0m def __call__(self, *args, **kwargs):\n\u001B[0;32m--> 258\u001B[0m     return self._jl_callmethod($(pyjl_methodnum(pyjlany_call)), args, kwargs)\n\u001B[1;32m    259\u001B[0m def __bool__(self):\n\u001B[1;32m    260\u001B[0m     return True\n",
      "\u001B[0;31mUnicodeDecodeError\u001B[0m: 'utf-8' codec can't decode bytes in position 4094-4095: unexpected end of data"
     ]
    }
   ],
   "execution_count": 14
  },
  {
   "cell_type": "code",
   "metadata": {
    "ExecuteTime": {
     "end_time": "2024-12-10T00:29:06.545881Z",
     "start_time": "2024-12-10T00:29:06.540008Z"
    }
   },
   "source": "",
   "outputs": [
    {
     "name": "stdout",
     "output_type": "stream",
     "text": [
      "Error in callback _flush_stdio (for post_execute):\n"
     ]
    },
    {
     "ename": "UnicodeDecodeError",
     "evalue": "'utf-8' codec can't decode bytes in position 4094-4095: unexpected end of data",
     "output_type": "error",
     "traceback": [
      "\u001B[0;31m---------------------------------------------------------------------------\u001B[0m",
      "\u001B[0;31mUnicodeDecodeError\u001B[0m                        Traceback (most recent call last)",
      "File \u001B[0;32m~/.julia/packages/PythonCall/Nr75f/src/JlWrap/any.jl:258\u001B[0m, in \u001B[0;36m__call__\u001B[0;34m(self, *args, **kwargs)\u001B[0m\n\u001B[1;32m    256\u001B[0m     return ValueBase.__dir__(self) + self._jl_callmethod($(pyjl_methodnum(pyjlany_dir)))\n\u001B[1;32m    257\u001B[0m def __call__(self, *args, **kwargs):\n\u001B[0;32m--> 258\u001B[0m     return self._jl_callmethod($(pyjl_methodnum(pyjlany_call)), args, kwargs)\n\u001B[1;32m    259\u001B[0m def __bool__(self):\n\u001B[1;32m    260\u001B[0m     return True\n",
      "\u001B[0;31mUnicodeDecodeError\u001B[0m: 'utf-8' codec can't decode bytes in position 4094-4095: unexpected end of data"
     ]
    }
   ],
   "execution_count": null
  },
  {
   "cell_type": "code",
   "metadata": {
    "ExecuteTime": {
     "end_time": "2024-12-10T00:29:06.569074Z",
     "start_time": "2024-12-10T00:29:06.564227Z"
    }
   },
   "source": "",
   "outputs": [
    {
     "name": "stdout",
     "output_type": "stream",
     "text": [
      "Error in callback _flush_stdio (for post_execute):\n"
     ]
    },
    {
     "ename": "UnicodeDecodeError",
     "evalue": "'utf-8' codec can't decode bytes in position 4094-4095: unexpected end of data",
     "output_type": "error",
     "traceback": [
      "\u001B[0;31m---------------------------------------------------------------------------\u001B[0m",
      "\u001B[0;31mUnicodeDecodeError\u001B[0m                        Traceback (most recent call last)",
      "File \u001B[0;32m~/.julia/packages/PythonCall/Nr75f/src/JlWrap/any.jl:258\u001B[0m, in \u001B[0;36m__call__\u001B[0;34m(self, *args, **kwargs)\u001B[0m\n\u001B[1;32m    256\u001B[0m     return ValueBase.__dir__(self) + self._jl_callmethod($(pyjl_methodnum(pyjlany_dir)))\n\u001B[1;32m    257\u001B[0m def __call__(self, *args, **kwargs):\n\u001B[0;32m--> 258\u001B[0m     return self._jl_callmethod($(pyjl_methodnum(pyjlany_call)), args, kwargs)\n\u001B[1;32m    259\u001B[0m def __bool__(self):\n\u001B[1;32m    260\u001B[0m     return True\n",
      "\u001B[0;31mUnicodeDecodeError\u001B[0m: 'utf-8' codec can't decode bytes in position 4094-4095: unexpected end of data"
     ]
    }
   ],
   "execution_count": null
  },
  {
   "cell_type": "code",
   "metadata": {
    "ExecuteTime": {
     "end_time": "2024-12-10T00:29:06.591568Z",
     "start_time": "2024-12-10T00:29:06.586645Z"
    }
   },
   "source": [
    "\n",
    "\n"
   ],
   "outputs": [
    {
     "name": "stdout",
     "output_type": "stream",
     "text": [
      "Error in callback _flush_stdio (for post_execute):\n"
     ]
    },
    {
     "ename": "UnicodeDecodeError",
     "evalue": "'utf-8' codec can't decode bytes in position 4094-4095: unexpected end of data",
     "output_type": "error",
     "traceback": [
      "\u001B[0;31m---------------------------------------------------------------------------\u001B[0m",
      "\u001B[0;31mUnicodeDecodeError\u001B[0m                        Traceback (most recent call last)",
      "File \u001B[0;32m~/.julia/packages/PythonCall/Nr75f/src/JlWrap/any.jl:258\u001B[0m, in \u001B[0;36m__call__\u001B[0;34m(self, *args, **kwargs)\u001B[0m\n\u001B[1;32m    256\u001B[0m     return ValueBase.__dir__(self) + self._jl_callmethod($(pyjl_methodnum(pyjlany_dir)))\n\u001B[1;32m    257\u001B[0m def __call__(self, *args, **kwargs):\n\u001B[0;32m--> 258\u001B[0m     return self._jl_callmethod($(pyjl_methodnum(pyjlany_call)), args, kwargs)\n\u001B[1;32m    259\u001B[0m def __bool__(self):\n\u001B[1;32m    260\u001B[0m     return True\n",
      "\u001B[0;31mUnicodeDecodeError\u001B[0m: 'utf-8' codec can't decode bytes in position 4094-4095: unexpected end of data"
     ]
    }
   ],
   "execution_count": 14
  },
  {
   "cell_type": "code",
   "execution_count": null,
   "metadata": {},
   "outputs": [],
   "source": []
  },
  {
   "cell_type": "code",
   "execution_count": null,
   "metadata": {},
   "outputs": [],
   "source": []
  },
  {
   "cell_type": "code",
   "execution_count": null,
   "metadata": {},
   "outputs": [],
   "source": []
  },
  {
   "cell_type": "code",
   "execution_count": null,
   "metadata": {},
   "outputs": [],
   "source": []
  },
  {
   "cell_type": "code",
   "execution_count": null,
   "metadata": {},
   "outputs": [],
   "source": []
  }
 ],
 "metadata": {
  "kernelspec": {
   "display_name": "Python 3 (ipykernel)",
   "language": "python",
   "name": "python3"
  },
  "language_info": {
   "codemirror_mode": {
    "name": "ipython",
    "version": 3
   },
   "file_extension": ".py",
   "mimetype": "text/x-python",
   "name": "python",
   "nbconvert_exporter": "python",
   "pygments_lexer": "ipython3",
   "version": "3.12.5"
  }
 },
 "nbformat": 4,
 "nbformat_minor": 4
}
