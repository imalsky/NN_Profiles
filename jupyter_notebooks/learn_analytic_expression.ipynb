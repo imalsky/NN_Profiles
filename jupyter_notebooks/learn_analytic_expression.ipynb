{
 "cells": [
  {
   "cell_type": "code",
   "metadata": {
    "ExecuteTime": {
     "end_time": "2024-12-10T20:44:06.567759Z",
     "start_time": "2024-12-10T20:44:06.565452Z"
    }
   },
   "source": [
    "import json\n",
    "\n",
    "from dataset import NormalizedProfilesDataset\n",
    "from utils import load_normalization_metadata\n",
    "from models import RNN_New, BasicRNN\n",
    "from torch.utils.data import DataLoader\n",
    "import torch"
   ],
   "outputs": [],
   "execution_count": 2
  },
  {
   "metadata": {
    "ExecuteTime": {
     "end_time": "2024-12-10T20:44:06.821740Z",
     "start_time": "2024-12-10T20:44:06.819988Z"
    }
   },
   "cell_type": "code",
   "source": "",
   "outputs": [],
   "execution_count": null
  },
  {
   "cell_type": "code",
   "metadata": {
    "ExecuteTime": {
     "end_time": "2024-12-10T20:44:07.432720Z",
     "start_time": "2024-12-10T20:44:07.429655Z"
    }
   },
   "source": [
    "# Paths\n",
    "model_params_path = \"Data/model/model_parameters.json\"\n",
    "model_save_path = \"Data/model/best_model.pth\"\n",
    "data_folder = \"data/normalize_profiles\"\n",
    "save_path = \"figures\"\n",
    "\n",
    "# Load the model parameters\n",
    "with open(model_params_path, 'r') as f:\n",
    "    model_params = json.load(f)\n",
    "\n",
    "# Display the model parameters\n",
    "print(\"Loaded model parameters:\")\n",
    "print(json.dumps(model_params, indent=4))"
   ],
   "outputs": [
    {
     "name": "stdout",
     "output_type": "stream",
     "text": [
      "Loaded model parameters:\n",
      "{\n",
      "    \"model_type\": \"BasicRNN\",\n",
      "    \"RNN_type\": \"LSTM\",\n",
      "    \"nx\": 4,\n",
      "    \"ny\": 1,\n",
      "    \"nx_sfc\": 0,\n",
      "    \"nneur\": [\n",
      "        32,\n",
      "        32\n",
      "    ],\n",
      "    \"outputs_one_longer\": false,\n",
      "    \"concat\": false,\n",
      "    \"batch_size\": 4,\n",
      "    \"learning_rate\": 0.0001,\n",
      "    \"epochs\": 500,\n",
      "    \"input_variables\": [\n",
      "        \"pressure\",\n",
      "        \"temperature\",\n",
      "        \"Tstar\",\n",
      "        \"flux_surface_down\"\n",
      "    ],\n",
      "    \"target_variables\": [\n",
      "        \"net_flux\"\n",
      "    ]\n",
      "}\n"
     ]
    }
   ],
   "execution_count": 3
  },
  {
   "cell_type": "code",
   "metadata": {
    "ExecuteTime": {
     "end_time": "2024-12-10T20:44:08.128853Z",
     "start_time": "2024-12-10T20:44:08.122329Z"
    }
   },
   "source": [
    "# Device configuration\n",
    "device = torch.device(\"cuda\" if torch.cuda.is_available() else \"cpu\")\n",
    "\n",
    "# Retrieve model_type\n",
    "model_type = model_params.get(\"model_type\", \"RNN_New\")\n",
    "\n",
    "# Initialize the model dynamically based on model_type\n",
    "if model_type == 'BasicRNN':\n",
    "    model = BasicRNN(\n",
    "        RNN_type=model_params['RNN_type'],\n",
    "        nx=model_params['nx'],\n",
    "        ny=model_params['ny'],\n",
    "        nneur=tuple(model_params['nneur']),\n",
    "        outputs_one_longer=model_params['outputs_one_longer'],\n",
    "        concat=model_params['concat']\n",
    "    )\n",
    "elif model_type == 'RNN_New':\n",
    "    model = RNN_New(\n",
    "        RNN_type=model_params['RNN_type'],\n",
    "        nx=model_params['nx'],\n",
    "        ny=model_params['ny'],\n",
    "        nneur=tuple(model_params['nneur']),\n",
    "        outputs_one_longer=model_params['outputs_one_longer'],\n",
    "        concat=model_params['concat']\n",
    "    )\n",
    "else:\n",
    "    raise ValueError(f\"Unknown model type: {model_type}\")\n",
    "\n",
    "# Load the trained model weights\n",
    "model.load_state_dict(torch.load(model_save_path, map_location=device))\n",
    "model.to(device)\n",
    "model.eval()\n",
    "\n",
    "print(f\"model '{model_type}' loaded and ready for evaluation.\")\n"
   ],
   "outputs": [
    {
     "name": "stderr",
     "output_type": "stream",
     "text": [
      "/var/folders/8_/lltwgz4x48ncx3q3k86fr_tm0000gq/T/ipykernel_8414/1995295661.py:30: FutureWarning: You are using `torch.load` with `weights_only=False` (the current default value), which uses the default pickle module implicitly. It is possible to construct malicious pickle data which will execute arbitrary code during unpickling (See https://github.com/pytorch/pytorch/blob/main/SECURITY.md#untrusted-models for more details). In a future release, the default value for `weights_only` will be flipped to `True`. This limits the functions that could be executed during unpickling. Arbitrary objects will no longer be allowed to be loaded via this mode unless they are explicitly allowlisted by the user via `torch.serialization.add_safe_globals`. We recommend you start setting `weights_only=True` for any use case where you don't have full control of the loaded file. Please open an issue on GitHub for any issues related to this experimental feature.\n",
      "  model.load_state_dict(torch.load(model_save_path, map_location=device))\n"
     ]
    },
    {
     "name": "stdout",
     "output_type": "stream",
     "text": [
      "Model 'BasicRNN' loaded and ready for evaluation.\n"
     ]
    }
   ],
   "execution_count": 4
  },
  {
   "metadata": {
    "ExecuteTime": {
     "end_time": "2024-12-10T20:44:08.416941Z",
     "start_time": "2024-12-10T20:44:08.320733Z"
    }
   },
   "cell_type": "code",
   "source": [
    "# Load normalization metadata\n",
    "normalization_metadata = load_normalization_metadata()\n",
    "\n",
    "# Expected length of profiles\n",
    "expected_length = 50\n",
    "\n",
    "# Initialize the test dataset\n",
    "test_dataset = NormalizedProfilesDataset(\n",
    "    data_folder,\n",
    "    expected_length=50,\n",
    "    input_variables=['pressure', 'temperature', 'Tstar', 'flux_surface_down'],\n",
    "    target_variables=['net_flux']\n",
    ")\n",
    "\n",
    "# Create DataLoader\n",
    "test_loader = DataLoader(test_dataset,batch_size=1,shuffle=False)\n",
    "\n",
    "print(\"Test dataset loaded.\")\n"
   ],
   "outputs": [
    {
     "name": "stdout",
     "output_type": "stream",
     "text": [
      "Test dataset loaded.\n"
     ]
    }
   ],
   "execution_count": 5
  },
  {
   "cell_type": "code",
   "metadata": {
    "ExecuteTime": {
     "end_time": "2024-12-10T20:44:41.470018Z",
     "start_time": "2024-12-10T20:44:08.495886Z"
    }
   },
   "source": [
    "import torch\n",
    "import numpy as np\n",
    "import pickle as pkl\n",
    "from torch.utils.data import DataLoader\n",
    "from pysr import PySRRegressor\n",
    "\n",
    "# Ensure model is in evaluation mode\n",
    "model.eval()\n",
    "\n",
    "# We'll gather inputs and outputs from the model\n",
    "X_all = []\n",
    "Y_all = []\n",
    "Preds_all = []\n",
    "\n",
    "# Iterate over a portion of the test data to build a dataset for symbolic regression\n",
    "# For symbolic regression, a few thousand samples might be enough.\n",
    "max_samples = 2000\n",
    "count = 0\n",
    "\n",
    "with torch.no_grad():\n",
    "    for X_batch, Y_batch in test_loader:\n",
    "        X_batch = X_batch.to(device)  # Move to GPU if available\n",
    "        Y_batch = Y_batch.to(device)\n",
    "\n",
    "        # Get model predictions\n",
    "        Y_pred = model(X_batch)\n",
    "\n",
    "        # Move data back to CPU and convert to numpy\n",
    "        X_np = X_batch.cpu().numpy()\n",
    "        Y_np = Y_batch.cpu().numpy()\n",
    "        Y_pred_np = Y_pred.cpu().numpy()\n",
    "\n",
    "        X_all.append(X_np)\n",
    "        Y_all.append(Y_np)\n",
    "        Preds_all.append(Y_pred_np)\n",
    "\n",
    "        count += X_np.shape[0]\n",
    "        if count >= max_samples:\n",
    "            break\n",
    "\n",
    "# Concatenate all arrays\n",
    "X_all = np.concatenate(X_all, axis=0)  # shape: (N, seq_len, nx)\n",
    "Y_all = np.concatenate(Y_all, axis=0)  # shape: (N, ny)\n",
    "Preds_all = np.concatenate(Preds_all, axis=0)  # shape: (N, ny)\n",
    "\n",
    "# If your model output is multi-dimensional (ny > 1), select one dimension for demonstration\n",
    "if Preds_all.ndim > 1 and Preds_all.shape[1] > 1:\n",
    "    Preds_all = Preds_all[:, 0]\n",
    "    Y_all = Y_all[:, 0]\n",
    "\n",
    "# Now we have:\n",
    "# X_all: shape (N, seq_len, nx)\n",
    "# Preds_all: shape (N,)\n",
    "# We need a suitable input representation for PySR.\n",
    "# PySR typically expects a 2D array of inputs (N, features).\n",
    "# One common approach:\n",
    "# Flatten sequence input or extract features from it.\n",
    "# For demonstration, let's just flatten the sequence dimension:\n",
    "N, seq_len, nx = X_all.shape\n",
    "X_for_pysr = X_all.reshape(N, seq_len * nx)\n",
    "\n",
    "Y_for_pysr = Preds_all  # We'll try to fit PySR to match model predictions.\n",
    "\n",
    "# Optionally, choose a random subset for PySR\n",
    "subset_size = 1000\n",
    "rstate = np.random.RandomState(0)\n",
    "idx = rstate.choice(N, size=subset_size, replace=False)\n",
    "X_for_pysr = X_for_pysr[idx]\n",
    "Y_for_pysr = Y_for_pysr[idx]\n",
    "\n",
    "# Save the recorded data if desired\n",
    "with open(\"rnn_recordings.pkl\", \"wb\") as f:\n",
    "    pkl.dump({\"X_for_pysr\": X_for_pysr, \"Y_for_pysr\": Y_for_pysr}, f)\n",
    "\n",
    "# Perform symbolic regression with PySR\n",
    "model_pysr = PySRRegressor(\n",
    "    niterations=50,\n",
    "    binary_operators=[\"+\", \"-\", \"*\", \"/\"],\n",
    "    unary_operators=[\"cos\", \"sin\", \"exp\", \"log\", \"square\"],\n",
    "    progress=True,\n",
    "    random_state=0,\n",
    "    deterministic=True,\n",
    "    parallelism='serial'\n",
    ")\n",
    "model_pysr.fit(X_for_pysr, Y_for_pysr)\n",
    "\n",
    "print(\"Discovered equations:\")\n",
    "print(model_pysr.equations_)\n",
    "\n",
    "best_equation = model_pysr.get_best()\n",
    "print(\"Best equation found by PySR:\")\n",
    "print(best_equation)\n"
   ],
   "outputs": [
    {
     "name": "stderr",
     "output_type": "stream",
     "text": [
      "/opt/anaconda3/lib/python3.12/site-packages/pysr/sr.py:2737: UserWarning: Note: it looks like you are running in Jupyter. The progress bar will be turned off.\n",
      "  warnings.warn(\n",
      "/opt/anaconda3/lib/python3.12/site-packages/pysr/sr.py:2222: UserWarning: Note: you are running with 10 features or more. Genetic algorithms like used in PySR scale poorly with large numbers of features. You should run PySR for more `niterations` to ensure it can find the correct variables, and consider using a larger `maxsize`.\n",
      "  warnings.warn(\n"
     ]
    },
    {
     "name": "stdout",
     "output_type": "stream",
     "text": [
      "Compiling Julia backend...\n"
     ]
    },
    {
     "name": "stderr",
     "output_type": "stream",
     "text": [
      "[ Info: Started!\n"
     ]
    },
    {
     "name": "stdout",
     "output_type": "stream",
     "text": [
      "\n",
      "Expressions evaluated per second: 5.820e+04\n",
      "Progress: 330 / 1550 total iterations (21.290%)\n",
      "════════════════════════════════════════════════════════════════════════════════════════════════════\n",
      "───────────────────────────────────────────────────────────────────────────────────────────────────\n",
      "Complexity  Loss       Score      Equation\n",
      "1           9.950e-01  1.594e+01  y = -0.0025429\n",
      "2           9.810e-01  1.424e-02  y = cos(x₇₅)\n",
      "3           7.175e-04  7.220e+00  y = x₁₃₉ * -0.99716\n",
      "5           7.111e-04  4.528e-03  y = (x₁₄₇ * -0.99716) - 0.0025433\n",
      "6           7.006e-04  1.482e-02  y = square(x₁₁₉ * 0.054007) - x₁₉₅\n",
      "7           6.135e-04  1.327e-01  y = square(square(x₁₉₅) * -0.037592) - x₁₄₃\n",
      "8           5.032e-04  1.981e-01  y = square(square(square(x₁₅₁) * 0.083594)) - x₁₉₅\n",
      "10          4.803e-04  2.336e-02  y = square(square(square(0.083594 - x₁₅₁) * 0.083594)) - x...\n",
      "                                      ₁₉₅\n",
      "11          4.581e-04  4.718e-02  y = square(square(x₁₉₅ * (x₁₉₅ * -0.049436)) * x₁₉₅) - x₁₉...\n",
      "                                      ₅\n",
      "13          4.349e-04  2.599e-02  y = sin(x₁₃₆ * sin(square(square(square(square(x₁₅₁) * 0.1...\n",
      "                                      0929))))) - x₁₀₃\n",
      "18          4.241e-04  5.039e-03  y = square(-0.049436 * ((sin(x₁₉) - exp(x₁₆₇)) + square(x₁...\n",
      "                                      ₉₅))) - ((sin(0.0082764) + x₉₁) * 1.0086)\n",
      "19          4.231e-04  2.295e-03  y = (square((square(x₁₉₅) + (sin(x₁₉) - exp(x₁₆₇))) * -0.0...\n",
      "                                      49436) - (x₉₁ + (x₁₁₄ + 0.0082764))) * 1.0086\n",
      "22          3.996e-04  1.910e-02  y = (square(-0.049436 * ((sin(-0.76497 - x₁₃) - exp(x₁₆₇))...\n",
      "                                       + square(x₁₉₅))) - ((x₉₁ + x₁₁₄) + sin(0.0082764))) * 1.0...\n",
      "                                      086\n",
      "27          3.990e-04  2.812e-04  y = (square(((x₈₅ / -1.1905) + (square(x₁₁₁) - exp(x₁₁₅)))...\n",
      "                                       * -0.053162) - ((x₁₁₁ + (square((x₁₉₆ * -0.02159) + x₁₁₄)...\n",
      "                                       / 0.56857)) + 0.0096813)) * 1.0091\n",
      "29          3.968e-04  2.800e-03  y = (square(((x₈₅ / -1.4088) + (square(x₁₁₁) - exp(x₁₁₅)))...\n",
      "                                       * -0.053292) - (x₁₁₁ + ((square(x₁₁₄ + (0.0011279 / (x₁₉₆...\n",
      "                                       * -0.303))) / 0.65818) + 0.010413))) * 1.0098\n",
      "30          3.820e-04  3.801e-02  y = (square((square(x₁₅₅) + (log(x₄₈ - -1.1906) - exp(x₁₅₅...\n",
      "                                      ))) * -0.056697) - ((square(((x₁₂₃ * -0.055049) + 0.031419...\n",
      "                                      ) * (x₄₈ - x₅₃)) + 0.0048247) + x₁₃₁)) * 1.0126\n",
      "───────────────────────────────────────────────────────────────────────────────────────────────────\n",
      "════════════════════════════════════════════════════════════════════════════════════════════════════\n",
      "Press 'q' and then <enter> to stop execution early.\n",
      "\n",
      "Expressions evaluated per second: 5.400e+04\n",
      "Progress: 609 / 1550 total iterations (39.290%)\n",
      "════════════════════════════════════════════════════════════════════════════════════════════════════\n",
      "───────────────────────────────────────────────────────────────────────────────────────────────────\n",
      "Complexity  Loss       Score      Equation\n",
      "1           9.950e-01  1.594e+01  y = -0.0025429\n",
      "2           9.810e-01  1.424e-02  y = cos(x₇₅)\n",
      "3           7.175e-04  7.220e+00  y = x₁₃₉ * -0.99716\n",
      "5           7.111e-04  4.528e-03  y = (x₁₄₇ * -0.99716) - 0.0025433\n",
      "6           6.951e-04  2.269e-02  y = (exp(x₇) * 0.0014811) - x₇\n",
      "7           6.096e-04  1.312e-01  y = (square(square(x₃)) * 0.0011941) - x₃\n",
      "8           4.601e-04  2.815e-01  y = square(square(exp(x₇)) * 0.001486) - x₇\n",
      "9           4.176e-04  9.673e-02  y = (exp(square(x₁₇₉)) * 7.8481e-05) - (x₇ + 0.0053842)\n",
      "12          4.176e-04  3.227e-05  y = (exp(square(x₁₄₃ / cos(x₈))) * 7.75e-05) - (x₁₅₅ + 0.0...\n",
      "                                      053793)\n",
      "18          3.917e-04  1.065e-02  y = (square((x₄₃ * (square(x₇₁) + ((x₁₃ / -0.69217) - exp(...\n",
      "                                      x₇₁)))) * 0.01275) - 1.005) * x₇₁\n",
      "19          3.902e-04  3.980e-03  y = square(-0.049436 * (((-0.76497 - sin(x₁₃)) - exp(x₁₆₇)...\n",
      "                                      ) + square(x₁₃₁))) - ((x₉₁ + 0.0082764) * 1.0086)\n",
      "22          3.339e-04  5.192e-02  y = square(-0.062048 * (square(x₁₀₃) - (exp(x₁₁₁) + sin(x₂...\n",
      "                                      ₉)))) - (x₃ + square(-0.0028493 + (x₁₃₁ * (-0.11192 / 0.99...\n",
      "                                      347))))\n",
      "23          3.098e-04  7.499e-02  y = square((square(x₁₅₅ + 0.16296) - exp(x₁₅₅)) * 0.064183...\n",
      "                                      ) - (((x₁₈₃ * 1.002) + 0.0011669) + square((x₄₉ - x₁₅₅) * ...\n",
      "                                      0.069138))\n",
      "30          2.807e-04  1.408e-02  y = (square(((square(x₄₃) + cos(x₄₉ - -1.1913)) - exp(x₄₃)...\n",
      "                                      ) * -0.05999) - ((x₁₉₁ + square((x₄₉ * ((x₁₂₃ * -0.061377)...\n",
      "                                       + 0.048922)) - -0.041415)) + 0.006011)) * 1.0087\n",
      "───────────────────────────────────────────────────────────────────────────────────────────────────\n",
      "════════════════════════════════════════════════════════════════════════════════════════════════════\n",
      "Press 'q' and then <enter> to stop execution early.\n"
     ]
    },
    {
     "name": "stderr",
     "output_type": "stream",
     "text": [
      "[ Info: Final population:\n",
      "[ Info: Results saved to:\n"
     ]
    },
    {
     "name": "stdout",
     "output_type": "stream",
     "text": [
      "\n",
      "Expressions evaluated per second: 5.380e+04\n",
      "Progress: 933 / 1550 total iterations (60.194%)\n",
      "════════════════════════════════════════════════════════════════════════════════════════════════════\n",
      "───────────────────────────────────────────────────────────────────────────────────────────────────\n",
      "Complexity  Loss       Score      Equation\n",
      "1           9.950e-01  1.594e+01  y = -0.0025429\n",
      "2           9.810e-01  1.424e-02  y = cos(x₇₅)\n",
      "3           7.175e-04  7.220e+00  y = x₈₇ * -0.99716\n",
      "5           7.111e-04  4.528e-03  y = (x₁₄₇ * -0.99716) - 0.0025433\n",
      "6           6.951e-04  2.269e-02  y = (exp(x₇) * 0.0014811) - x₇\n",
      "7           4.466e-04  4.423e-01  y = (exp(square(x₁₇₉)) * 7.8481e-05) - x₇\n",
      "9           4.176e-04  3.355e-02  y = (exp(square(x₁₇₉)) * 7.8481e-05) - (x₇ + 0.0053842)\n",
      "12          4.052e-04  1.005e-02  y = ((exp(square(x₁₄₃)) * 7.75e-05) - (0.0053793 + x₁₄₃)) ...\n",
      "                                      / cos(-0.063419)\n",
      "15          4.044e-04  6.642e-04  y = ((exp(square(x₁₄₃ / cos(-0.063419))) * 7.75e-05) - (0....\n",
      "                                      0053793 + x₁₄₃)) / cos(-0.063419)\n",
      "16          3.951e-04  2.328e-02  y = ((square((square(x₁₀₄ + x₁₅₅) - exp(x₁₅₅)) * 0.085066)...\n",
      "                                       - x₁₈₃) + -0.0076544) * 1.0062\n",
      "18          3.169e-04  1.104e-01  y = square(((exp(x₁₆₃) + sin(x₂₉)) - square(x₁₀₃)) * -0.06...\n",
      "                                      6218) - (x₁₉₁ + square(x₃ * -0.11364))\n",
      "20          3.108e-04  9.738e-03  y = square((square(x₁₀₃) - (sin(x₂₉) + exp(x₁₁₁))) * -0.06...\n",
      "                                      8345) - (x₃ + square((x₁₁₁ + 0.12103) * 0.11424))\n",
      "22          2.994e-04  1.861e-02  y = square(((exp(x₁₆₃) + sin(x₂₉)) - square(x₁₀₃)) * -0.06...\n",
      "                                      5158) - (x₃ + square((x₉₃ * 0.035281) + (x₃ * -0.10353)))\n",
      "26          2.902e-04  7.794e-03  y = square((square(x₁₆₃) - (exp(x₃₉) + sin(x₂₉))) * -0.067...\n",
      "                                      179) - (((((x₂₉ - -0.69221) * x₉₃) * 0.0041087) + x₁₆₃) + ...\n",
      "                                      square(x₃ * -0.11363))\n",
      "28          2.844e-04  1.008e-02  y = square((square(x₁₀₃) - (exp(x₁₆₃) + sin(x₂₉))) * -0.06...\n",
      "                                      6457) - (((0.0030125 * (0.0030125 + x₉₃)) * (x₂₉ - x₁₆₃)) ...\n",
      "                                      + (square(x₃ * -0.11124) + x₃))\n",
      "30          2.553e-04  5.400e-02  y = square(((exp(x₆₃) + sin(x₄₅)) - square(x₁₉₅)) * -0.066...\n",
      "                                      457) - ((x₃ + square(0.11863 * x₁₀₃)) + ((x₂₉ - (x₄₃ * x₂₉...\n",
      "                                      )) * ((0.0030125 * x₉₃) + 0.0030125)))\n",
      "───────────────────────────────────────────────────────────────────────────────────────────────────\n",
      "════════════════════════════════════════════════════════════════════════════════════════════════════\n",
      "Press 'q' and then <enter> to stop execution early.\n",
      "\n",
      "Expressions evaluated per second: 5.340e+04\n",
      "Progress: 1242 / 1550 total iterations (80.129%)\n",
      "════════════════════════════════════════════════════════════════════════════════════════════════════\n",
      "Discovered equations:\n",
      "    complexity      loss                                           equation  \\\n",
      "0            1  0.995036                                       -0.002542921   \n",
      "1            2  0.980967                                           cos(x75)   \n",
      "2            3  0.000718                                  x87 * -0.99715626   \n",
      "3            5  0.000700                          (-1.1441721 * x31) / x189   \n",
      "4            6  0.000695                      (exp(x7) * 0.0014810576) - x7   \n",
      "5            7  0.000446          (exp(square(x163)) * 7.4602765e-5) - x143   \n",
      "6            8  0.000446       sin(exp(square(x107)) * 7.4602765e-5) - x163   \n",
      "7            9  0.000418  (exp(square(x115)) * 7.84769e-5) - (x7 + 0.005...   \n",
      "8           11  0.000397  (exp(square(x167)) * 8.751666e-5) - ((x195 + 0...   \n",
      "9           12  0.000396  (square(square(exp(x11) * 0.040987138)) + (-0....   \n",
      "10          14  0.000390  (8.751666e-5 * exp(square(x27))) - ((0.0056887...   \n",
      "11          16  0.000383  square((exp(x39) + (x17 - 0.92633206)) * -0.03...   \n",
      "12          18  0.000314  (square(sin(x13) + (exp(x3) - square(x195))) *...   \n",
      "13          20  0.000309  (square(square(x39) + (cos(exp(sin(x25))) - ex...   \n",
      "14          21  0.000299  (square(exp(x11) + ((exp(sin(x25)) - square(x1...   \n",
      "15          22  0.000298  square((square(x103) - (exp(x163) + sin(x21)))...   \n",
      "16          23  0.000296  square(((exp(x163) + sin(sin(x21))) - square(x...   \n",
      "17          24  0.000280  (square(exp(x3)) * 0.0011760808) - (x3 + ((((x...   \n",
      "18          26  0.000273  (square(exp(x3)) * 0.0011760808) - ((x3 + (((x...   \n",
      "19          27  0.000239  (square(exp(x3) + sin(x13)) * 0.0011760808) - ...   \n",
      "20          28  0.000237  (square(exp(x195) + (sin(x13) - square(x195)))...   \n",
      "21          30  0.000223  (square(exp(x195) + (sin(x13) - square(x195)))...   \n",
      "\n",
      "       score                                       sympy_format  \\\n",
      "0   0.000000                               -0.00254292100000000   \n",
      "1   0.014240                                           cos(x75)   \n",
      "2   7.220493                                  x87*(-0.99715626)   \n",
      "3   0.012053                                -1.1441721*x31/x189   \n",
      "4   0.007645                         -x7 + exp(x7)*0.0014810576   \n",
      "5   0.444027                  -x143 + exp(x163**2)*7.4602765e-5   \n",
      "6   0.000025             -x163 + sin(exp(x107**2)*7.4602765e-5)   \n",
      "7   0.065388     -(x7 + 0.0053841593) + exp(x115**2)*7.84769e-5   \n",
      "8   0.025469  -(x195 + 0.005688729)/0.99505454 + exp(x167**2...   \n",
      "9   0.001274  (-x11 + 2.82221682058058e-6*exp(4*x11) - 0.005...   \n",
      "10  0.007849  -(x167 + 0.005688729/(1.2444589 - sin(x95))) +...   \n",
      "11  0.009017  -(x163 + 0.01010551688644*x3**2) + 0.001122827...   \n",
      "12  0.099800  -(0.0141587129123521*x111**2 + x3) + (-x195**2...   \n",
      "13  0.007268  -(x163 + 0.0145004802738436*x63**2) + (x39**2 ...   \n",
      "14  0.032449  -(x163 + x63**2*0.014485955) + (1.882436959572...   \n",
      "15  0.004517  0.0042455115346081*(x103**2 - (exp(x163) + sin...   \n",
      "16  0.008201  -(x3 + (x3*(-0.1035257) + x93*0.035280835)**2)...   \n",
      "17  0.056069  -(0.0148113427274596*x3**2 + x3 + x5*(0.219779...   \n",
      "18  0.012216  -(0.0148113427274596*x3**2 + x3 + x5*(-x43 + x...   \n",
      "19  0.130575  (exp(x3) + sin(x13))**2*0.0011760808 - (0.0148...   \n",
      "20  0.009853  (-x195**2 + exp(x195) + sin(x13))**2*0.0044328...   \n",
      "21  0.029533  (-x195**2 + exp(x195) + sin(x13))**2*0.0045815...   \n",
      "\n",
      "                                        lambda_format  \n",
      "0               PySRFunction(X=>-0.00254292100000000)  \n",
      "1                           PySRFunction(X=>cos(x75))  \n",
      "2                  PySRFunction(X=>x87*(-0.99715626))  \n",
      "3                PySRFunction(X=>-1.1441721*x31/x189)  \n",
      "4         PySRFunction(X=>-x7 + exp(x7)*0.0014810576)  \n",
      "5   PySRFunction(X=>-x143 + exp(x163**2)*7.4602765...  \n",
      "6   PySRFunction(X=>-x163 + sin(exp(x107**2)*7.460...  \n",
      "7   PySRFunction(X=>-(x7 + 0.0053841593) + exp(x11...  \n",
      "8   PySRFunction(X=>-(x195 + 0.005688729)/0.995054...  \n",
      "9   PySRFunction(X=>(-x11 + 2.82221682058058e-6*ex...  \n",
      "10  PySRFunction(X=>-(x167 + 0.005688729/(1.244458...  \n",
      "11  PySRFunction(X=>-(x163 + 0.01010551688644*x3**...  \n",
      "12  PySRFunction(X=>-(0.0141587129123521*x111**2 +...  \n",
      "13  PySRFunction(X=>-(x163 + 0.0145004802738436*x6...  \n",
      "14  PySRFunction(X=>-(x163 + x63**2*0.014485955) +...  \n",
      "15  PySRFunction(X=>0.0042455115346081*(x103**2 - ...  \n",
      "16  PySRFunction(X=>-(x3 + (x3*(-0.1035257) + x93*...  \n",
      "17  PySRFunction(X=>-(0.0148113427274596*x3**2 + x...  \n",
      "18  PySRFunction(X=>-(0.0148113427274596*x3**2 + x...  \n",
      "19  PySRFunction(X=>(exp(x3) + sin(x13))**2*0.0011...  \n",
      "20  PySRFunction(X=>(-x195**2 + exp(x195) + sin(x1...  \n",
      "21  PySRFunction(X=>(-x195**2 + exp(x195) + sin(x1...  \n",
      "Best equation found by PySR:\n",
      "complexity                                                      27\n",
      "loss                                                      0.000239\n",
      "equation         (square(exp(x3) + sin(x13)) * 0.0011760808) - ...\n",
      "score                                                     0.130575\n",
      "sympy_format     (exp(x3) + sin(x13))**2*0.0011760808 - (0.0148...\n",
      "lambda_format    PySRFunction(X=>(exp(x3) + sin(x13))**2*0.0011...\n",
      "Name: 19, dtype: object\n",
      "Error in callback _flush_stdio (for post_execute):\n"
     ]
    },
    {
     "ename": "UnicodeDecodeError",
     "evalue": "'utf-8' codec can't decode byte 0xe2 in position 4095: unexpected end of data",
     "output_type": "error",
     "traceback": [
      "\u001B[0;31m---------------------------------------------------------------------------\u001B[0m",
      "\u001B[0;31mUnicodeDecodeError\u001B[0m                        Traceback (most recent call last)",
      "File \u001B[0;32m~/.julia/packages/PythonCall/Nr75f/src/JlWrap/any.jl:258\u001B[0m, in \u001B[0;36m__call__\u001B[0;34m(self, *args, **kwargs)\u001B[0m\n\u001B[1;32m    256\u001B[0m     return ValueBase.__dir__(self) + self._jl_callmethod($(pyjl_methodnum(pyjlany_dir)))\n\u001B[1;32m    257\u001B[0m def __call__(self, *args, **kwargs):\n\u001B[0;32m--> 258\u001B[0m     return self._jl_callmethod($(pyjl_methodnum(pyjlany_call)), args, kwargs)\n\u001B[1;32m    259\u001B[0m def __bool__(self):\n\u001B[1;32m    260\u001B[0m     return True\n",
      "\u001B[0;31mUnicodeDecodeError\u001B[0m: 'utf-8' codec can't decode byte 0xe2 in position 4095: unexpected end of data"
     ]
    }
   ],
   "execution_count": 6
  },
  {
   "cell_type": "code",
   "metadata": {
    "ExecuteTime": {
     "end_time": "2024-12-10T20:44:41.478883Z",
     "start_time": "2024-12-10T20:44:41.473917Z"
    }
   },
   "source": "",
   "outputs": [
    {
     "name": "stdout",
     "output_type": "stream",
     "text": [
      "Error in callback _flush_stdio (for post_execute):\n"
     ]
    },
    {
     "ename": "UnicodeDecodeError",
     "evalue": "'utf-8' codec can't decode byte 0xe2 in position 4095: unexpected end of data",
     "output_type": "error",
     "traceback": [
      "\u001B[0;31m---------------------------------------------------------------------------\u001B[0m",
      "\u001B[0;31mUnicodeDecodeError\u001B[0m                        Traceback (most recent call last)",
      "File \u001B[0;32m~/.julia/packages/PythonCall/Nr75f/src/JlWrap/any.jl:258\u001B[0m, in \u001B[0;36m__call__\u001B[0;34m(self, *args, **kwargs)\u001B[0m\n\u001B[1;32m    256\u001B[0m     return ValueBase.__dir__(self) + self._jl_callmethod($(pyjl_methodnum(pyjlany_dir)))\n\u001B[1;32m    257\u001B[0m def __call__(self, *args, **kwargs):\n\u001B[0;32m--> 258\u001B[0m     return self._jl_callmethod($(pyjl_methodnum(pyjlany_call)), args, kwargs)\n\u001B[1;32m    259\u001B[0m def __bool__(self):\n\u001B[1;32m    260\u001B[0m     return True\n",
      "\u001B[0;31mUnicodeDecodeError\u001B[0m: 'utf-8' codec can't decode byte 0xe2 in position 4095: unexpected end of data"
     ]
    }
   ],
   "execution_count": null
  },
  {
   "cell_type": "code",
   "metadata": {
    "ExecuteTime": {
     "end_time": "2024-12-10T20:44:41.499775Z",
     "start_time": "2024-12-10T20:44:41.495497Z"
    }
   },
   "source": "",
   "outputs": [
    {
     "name": "stdout",
     "output_type": "stream",
     "text": [
      "Error in callback _flush_stdio (for post_execute):\n"
     ]
    },
    {
     "ename": "UnicodeDecodeError",
     "evalue": "'utf-8' codec can't decode byte 0xe2 in position 4095: unexpected end of data",
     "output_type": "error",
     "traceback": [
      "\u001B[0;31m---------------------------------------------------------------------------\u001B[0m",
      "\u001B[0;31mUnicodeDecodeError\u001B[0m                        Traceback (most recent call last)",
      "File \u001B[0;32m~/.julia/packages/PythonCall/Nr75f/src/JlWrap/any.jl:258\u001B[0m, in \u001B[0;36m__call__\u001B[0;34m(self, *args, **kwargs)\u001B[0m\n\u001B[1;32m    256\u001B[0m     return ValueBase.__dir__(self) + self._jl_callmethod($(pyjl_methodnum(pyjlany_dir)))\n\u001B[1;32m    257\u001B[0m def __call__(self, *args, **kwargs):\n\u001B[0;32m--> 258\u001B[0m     return self._jl_callmethod($(pyjl_methodnum(pyjlany_call)), args, kwargs)\n\u001B[1;32m    259\u001B[0m def __bool__(self):\n\u001B[1;32m    260\u001B[0m     return True\n",
      "\u001B[0;31mUnicodeDecodeError\u001B[0m: 'utf-8' codec can't decode byte 0xe2 in position 4095: unexpected end of data"
     ]
    }
   ],
   "execution_count": null
  },
  {
   "cell_type": "code",
   "metadata": {
    "ExecuteTime": {
     "end_time": "2024-12-10T20:44:41.519523Z",
     "start_time": "2024-12-10T20:44:41.515305Z"
    }
   },
   "source": [
    "\n",
    "\n"
   ],
   "outputs": [
    {
     "name": "stdout",
     "output_type": "stream",
     "text": [
      "Error in callback _flush_stdio (for post_execute):\n"
     ]
    },
    {
     "ename": "UnicodeDecodeError",
     "evalue": "'utf-8' codec can't decode byte 0xe2 in position 4095: unexpected end of data",
     "output_type": "error",
     "traceback": [
      "\u001B[0;31m---------------------------------------------------------------------------\u001B[0m",
      "\u001B[0;31mUnicodeDecodeError\u001B[0m                        Traceback (most recent call last)",
      "File \u001B[0;32m~/.julia/packages/PythonCall/Nr75f/src/JlWrap/any.jl:258\u001B[0m, in \u001B[0;36m__call__\u001B[0;34m(self, *args, **kwargs)\u001B[0m\n\u001B[1;32m    256\u001B[0m     return ValueBase.__dir__(self) + self._jl_callmethod($(pyjl_methodnum(pyjlany_dir)))\n\u001B[1;32m    257\u001B[0m def __call__(self, *args, **kwargs):\n\u001B[0;32m--> 258\u001B[0m     return self._jl_callmethod($(pyjl_methodnum(pyjlany_call)), args, kwargs)\n\u001B[1;32m    259\u001B[0m def __bool__(self):\n\u001B[1;32m    260\u001B[0m     return True\n",
      "\u001B[0;31mUnicodeDecodeError\u001B[0m: 'utf-8' codec can't decode byte 0xe2 in position 4095: unexpected end of data"
     ]
    }
   ],
   "execution_count": 6
  },
  {
   "cell_type": "code",
   "metadata": {
    "ExecuteTime": {
     "end_time": "2024-12-10T20:44:41.539040Z",
     "start_time": "2024-12-10T20:44:41.534844Z"
    }
   },
   "source": [],
   "outputs": [
    {
     "name": "stdout",
     "output_type": "stream",
     "text": [
      "Error in callback _flush_stdio (for post_execute):\n"
     ]
    },
    {
     "ename": "UnicodeDecodeError",
     "evalue": "'utf-8' codec can't decode byte 0xe2 in position 4095: unexpected end of data",
     "output_type": "error",
     "traceback": [
      "\u001B[0;31m---------------------------------------------------------------------------\u001B[0m",
      "\u001B[0;31mUnicodeDecodeError\u001B[0m                        Traceback (most recent call last)",
      "File \u001B[0;32m~/.julia/packages/PythonCall/Nr75f/src/JlWrap/any.jl:258\u001B[0m, in \u001B[0;36m__call__\u001B[0;34m(self, *args, **kwargs)\u001B[0m\n\u001B[1;32m    256\u001B[0m     return ValueBase.__dir__(self) + self._jl_callmethod($(pyjl_methodnum(pyjlany_dir)))\n\u001B[1;32m    257\u001B[0m def __call__(self, *args, **kwargs):\n\u001B[0;32m--> 258\u001B[0m     return self._jl_callmethod($(pyjl_methodnum(pyjlany_call)), args, kwargs)\n\u001B[1;32m    259\u001B[0m def __bool__(self):\n\u001B[1;32m    260\u001B[0m     return True\n",
      "\u001B[0;31mUnicodeDecodeError\u001B[0m: 'utf-8' codec can't decode byte 0xe2 in position 4095: unexpected end of data"
     ]
    }
   ],
   "execution_count": null
  },
  {
   "cell_type": "code",
   "execution_count": null,
   "metadata": {},
   "outputs": [],
   "source": []
  },
  {
   "cell_type": "code",
   "execution_count": null,
   "metadata": {},
   "outputs": [],
   "source": []
  },
  {
   "cell_type": "code",
   "execution_count": null,
   "metadata": {},
   "outputs": [],
   "source": []
  },
  {
   "cell_type": "code",
   "execution_count": null,
   "metadata": {},
   "outputs": [],
   "source": []
  }
 ],
 "metadata": {
  "kernelspec": {
   "display_name": "Python 3 (ipykernel)",
   "language": "python",
   "name": "python3"
  },
  "language_info": {
   "codemirror_mode": {
    "name": "ipython",
    "version": 3
   },
   "file_extension": ".py",
   "mimetype": "text/x-python",
   "name": "python",
   "nbconvert_exporter": "python",
   "pygments_lexer": "ipython3",
   "version": "3.12.5"
  }
 },
 "nbformat": 4,
 "nbformat_minor": 4
}
